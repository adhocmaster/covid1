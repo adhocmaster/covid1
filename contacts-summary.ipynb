{
 "cells": [
  {
   "cell_type": "code",
   "execution_count": 1,
   "metadata": {},
   "outputs": [],
   "source": [
    "import numpy as np\n",
    "import pandas as pd\n",
    "import matplotlib.pyplot as plt\n",
    "import seaborn as sns\n",
    "sns.set()\n"
   ]
  },
  {
   "cell_type": "code",
   "execution_count": 2,
   "metadata": {},
   "outputs": [],
   "source": [
    "src = './data/Santa_Clara_County_Close_Contact_Summary_Data.csv'\n",
    "\n",
    "dfSummary = pd.read_csv(src)"
   ]
  },
  {
   "cell_type": "code",
   "execution_count": 3,
   "metadata": {},
   "outputs": [
    {
     "data": {
      "text/html": [
       "<div>\n",
       "<style scoped>\n",
       "    .dataframe tbody tr th:only-of-type {\n",
       "        vertical-align: middle;\n",
       "    }\n",
       "\n",
       "    .dataframe tbody tr th {\n",
       "        vertical-align: top;\n",
       "    }\n",
       "\n",
       "    .dataframe thead th {\n",
       "        text-align: right;\n",
       "    }\n",
       "</style>\n",
       "<table border=\"1\" class=\"dataframe\">\n",
       "  <thead>\n",
       "    <tr style=\"text-align: right;\">\n",
       "      <th></th>\n",
       "      <th>geo</th>\n",
       "      <th>average_contacts</th>\n",
       "      <th>median_contacts</th>\n",
       "      <th>contact_devices</th>\n",
       "      <th>contacts</th>\n",
       "      <th>country</th>\n",
       "      <th>local_date</th>\n",
       "      <th>grouping_method</th>\n",
       "      <th>geo_type</th>\n",
       "      <th>filter</th>\n",
       "    </tr>\n",
       "  </thead>\n",
       "  <tbody>\n",
       "    <tr>\n",
       "      <td>0</td>\n",
       "      <td>60855001001</td>\n",
       "      <td>9.283333</td>\n",
       "      <td>4</td>\n",
       "      <td>60</td>\n",
       "      <td>544</td>\n",
       "      <td>USA</td>\n",
       "      <td>20200101</td>\n",
       "      <td>cel</td>\n",
       "      <td>cbg</td>\n",
       "      <td>noisy</td>\n",
       "    </tr>\n",
       "    <tr>\n",
       "      <td>1</td>\n",
       "      <td>60855001001</td>\n",
       "      <td>1.146341</td>\n",
       "      <td>1</td>\n",
       "      <td>164</td>\n",
       "      <td>94</td>\n",
       "      <td>USA</td>\n",
       "      <td>20200101</td>\n",
       "      <td>event_location</td>\n",
       "      <td>cbg</td>\n",
       "      <td>noisy</td>\n",
       "    </tr>\n",
       "    <tr>\n",
       "      <td>2</td>\n",
       "      <td>60855001001</td>\n",
       "      <td>5.500000</td>\n",
       "      <td>3</td>\n",
       "      <td>50</td>\n",
       "      <td>262</td>\n",
       "      <td>USA</td>\n",
       "      <td>20200101</td>\n",
       "      <td>cel</td>\n",
       "      <td>cbg</td>\n",
       "      <td>noisy_fast</td>\n",
       "    </tr>\n",
       "    <tr>\n",
       "      <td>3</td>\n",
       "      <td>60855001001</td>\n",
       "      <td>1.310345</td>\n",
       "      <td>1</td>\n",
       "      <td>29</td>\n",
       "      <td>19</td>\n",
       "      <td>USA</td>\n",
       "      <td>20200101</td>\n",
       "      <td>event_location</td>\n",
       "      <td>cbg</td>\n",
       "      <td>noisy_fast</td>\n",
       "    </tr>\n",
       "    <tr>\n",
       "      <td>4</td>\n",
       "      <td>60855001001</td>\n",
       "      <td>7.488372</td>\n",
       "      <td>3</td>\n",
       "      <td>43</td>\n",
       "      <td>316</td>\n",
       "      <td>USA</td>\n",
       "      <td>20200101</td>\n",
       "      <td>cel</td>\n",
       "      <td>cbg</td>\n",
       "      <td>noisy_slow</td>\n",
       "    </tr>\n",
       "  </tbody>\n",
       "</table>\n",
       "</div>"
      ],
      "text/plain": [
       "           geo  average_contacts  median_contacts  contact_devices  contacts  \\\n",
       "0  60855001001          9.283333                4               60       544   \n",
       "1  60855001001          1.146341                1              164        94   \n",
       "2  60855001001          5.500000                3               50       262   \n",
       "3  60855001001          1.310345                1               29        19   \n",
       "4  60855001001          7.488372                3               43       316   \n",
       "\n",
       "  country  local_date grouping_method geo_type      filter  \n",
       "0     USA    20200101             cel      cbg       noisy  \n",
       "1     USA    20200101  event_location      cbg       noisy  \n",
       "2     USA    20200101             cel      cbg  noisy_fast  \n",
       "3     USA    20200101  event_location      cbg  noisy_fast  \n",
       "4     USA    20200101             cel      cbg  noisy_slow  "
      ]
     },
     "execution_count": 3,
     "metadata": {},
     "output_type": "execute_result"
    }
   ],
   "source": [
    "dfSummary.head(5)"
   ]
  },
  {
   "cell_type": "code",
   "execution_count": 4,
   "metadata": {},
   "outputs": [
    {
     "data": {
      "text/html": [
       "<div>\n",
       "<style scoped>\n",
       "    .dataframe tbody tr th:only-of-type {\n",
       "        vertical-align: middle;\n",
       "    }\n",
       "\n",
       "    .dataframe tbody tr th {\n",
       "        vertical-align: top;\n",
       "    }\n",
       "\n",
       "    .dataframe thead th {\n",
       "        text-align: right;\n",
       "    }\n",
       "</style>\n",
       "<table border=\"1\" class=\"dataframe\">\n",
       "  <thead>\n",
       "    <tr style=\"text-align: right;\">\n",
       "      <th></th>\n",
       "      <th>geo</th>\n",
       "      <th>average_contacts</th>\n",
       "      <th>median_contacts</th>\n",
       "      <th>contact_devices</th>\n",
       "      <th>contacts</th>\n",
       "      <th>local_date</th>\n",
       "    </tr>\n",
       "  </thead>\n",
       "  <tbody>\n",
       "    <tr>\n",
       "      <td>count</td>\n",
       "      <td>1.608447e+06</td>\n",
       "      <td>1.608447e+06</td>\n",
       "      <td>1.608447e+06</td>\n",
       "      <td>1.608447e+06</td>\n",
       "      <td>1.608447e+06</td>\n",
       "      <td>1.608447e+06</td>\n",
       "    </tr>\n",
       "    <tr>\n",
       "      <td>mean</td>\n",
       "      <td>4.672744e+10</td>\n",
       "      <td>6.028148e+00</td>\n",
       "      <td>2.631386e+00</td>\n",
       "      <td>2.493457e+02</td>\n",
       "      <td>1.474978e+03</td>\n",
       "      <td>2.020031e+07</td>\n",
       "    </tr>\n",
       "    <tr>\n",
       "      <td>std</td>\n",
       "      <td>2.396728e+10</td>\n",
       "      <td>9.141985e+00</td>\n",
       "      <td>3.325294e+00</td>\n",
       "      <td>2.501634e+03</td>\n",
       "      <td>3.273010e+04</td>\n",
       "      <td>1.402910e+02</td>\n",
       "    </tr>\n",
       "    <tr>\n",
       "      <td>min</td>\n",
       "      <td>6.085000e+03</td>\n",
       "      <td>1.000000e+00</td>\n",
       "      <td>1.000000e+00</td>\n",
       "      <td>1.000000e+00</td>\n",
       "      <td>1.000000e+00</td>\n",
       "      <td>2.020010e+07</td>\n",
       "    </tr>\n",
       "    <tr>\n",
       "      <td>25%</td>\n",
       "      <td>6.085512e+09</td>\n",
       "      <td>1.531915e+00</td>\n",
       "      <td>1.000000e+00</td>\n",
       "      <td>3.700000e+01</td>\n",
       "      <td>6.300000e+01</td>\n",
       "      <td>2.020020e+07</td>\n",
       "    </tr>\n",
       "    <tr>\n",
       "      <td>50%</td>\n",
       "      <td>6.085504e+10</td>\n",
       "      <td>3.307692e+00</td>\n",
       "      <td>2.000000e+00</td>\n",
       "      <td>7.700000e+01</td>\n",
       "      <td>2.230000e+02</td>\n",
       "      <td>2.020032e+07</td>\n",
       "    </tr>\n",
       "    <tr>\n",
       "      <td>75%</td>\n",
       "      <td>6.085508e+10</td>\n",
       "      <td>6.645161e+00</td>\n",
       "      <td>3.000000e+00</td>\n",
       "      <td>1.800000e+02</td>\n",
       "      <td>6.770000e+02</td>\n",
       "      <td>2.020042e+07</td>\n",
       "    </tr>\n",
       "    <tr>\n",
       "      <td>max</td>\n",
       "      <td>6.085514e+10</td>\n",
       "      <td>5.498100e+02</td>\n",
       "      <td>6.870000e+02</td>\n",
       "      <td>2.117450e+05</td>\n",
       "      <td>6.668446e+06</td>\n",
       "      <td>2.020053e+07</td>\n",
       "    </tr>\n",
       "  </tbody>\n",
       "</table>\n",
       "</div>"
      ],
      "text/plain": [
       "                geo  average_contacts  median_contacts  contact_devices  \\\n",
       "count  1.608447e+06      1.608447e+06     1.608447e+06     1.608447e+06   \n",
       "mean   4.672744e+10      6.028148e+00     2.631386e+00     2.493457e+02   \n",
       "std    2.396728e+10      9.141985e+00     3.325294e+00     2.501634e+03   \n",
       "min    6.085000e+03      1.000000e+00     1.000000e+00     1.000000e+00   \n",
       "25%    6.085512e+09      1.531915e+00     1.000000e+00     3.700000e+01   \n",
       "50%    6.085504e+10      3.307692e+00     2.000000e+00     7.700000e+01   \n",
       "75%    6.085508e+10      6.645161e+00     3.000000e+00     1.800000e+02   \n",
       "max    6.085514e+10      5.498100e+02     6.870000e+02     2.117450e+05   \n",
       "\n",
       "           contacts    local_date  \n",
       "count  1.608447e+06  1.608447e+06  \n",
       "mean   1.474978e+03  2.020031e+07  \n",
       "std    3.273010e+04  1.402910e+02  \n",
       "min    1.000000e+00  2.020010e+07  \n",
       "25%    6.300000e+01  2.020020e+07  \n",
       "50%    2.230000e+02  2.020032e+07  \n",
       "75%    6.770000e+02  2.020042e+07  \n",
       "max    6.668446e+06  2.020053e+07  "
      ]
     },
     "execution_count": 4,
     "metadata": {},
     "output_type": "execute_result"
    }
   ],
   "source": [
    "dfSummary.describe()"
   ]
  },
  {
   "cell_type": "code",
   "execution_count": 5,
   "metadata": {},
   "outputs": [
    {
     "data": {
      "text/plain": [
       "<matplotlib.axes._subplots.AxesSubplot at 0x2335b504c08>"
      ]
     },
     "execution_count": 5,
     "metadata": {},
     "output_type": "execute_result"
    },
    {
     "data": {
      "image/png": "[encoded data removed]",
      "text/plain": [
       "<Figure size 432x288 with 1 Axes>"
      ]
     },
     "metadata": {
      "needs_background": "light"
     },
     "output_type": "display_data"
    }
   ],
   "source": [
    "sns.distplot(dfSummary.average_contacts)"
   ]
  },
  {
   "cell_type": "code",
   "execution_count": 6,
   "metadata": {},
   "outputs": [
    {
     "data": {
      "text/plain": [
       "<matplotlib.axes._subplots.AxesSubplot at 0x2335b69ce08>"
      ]
     },
     "execution_count": 6,
     "metadata": {},
     "output_type": "execute_result"
    },
    {
     "data": {
      "image/png": "[encoded data removed]",
      "text/plain": [
       "<Figure size 576x144 with 1 Axes>"
      ]
     },
     "metadata": {
      "needs_background": "light"
     },
     "output_type": "display_data"
    }
   ],
   "source": [
    "dfSummary['geo_type'].value_counts().head(30).plot(kind='barh', figsize=(8, 2))"
   ]
  },
  {
   "cell_type": "code",
   "execution_count": 7,
   "metadata": {},
   "outputs": [
    {
     "data": {
      "text/plain": [
       "<matplotlib.axes._subplots.AxesSubplot at 0x2335b6aa9c8>"
      ]
     },
     "execution_count": 7,
     "metadata": {},
     "output_type": "execute_result"
    },
    {
     "data": {
      "image/png": "[encoded data removed]",
      "text/plain": [
       "<Figure size 576x144 with 1 Axes>"
      ]
     },
     "metadata": {
      "needs_background": "light"
     },
     "output_type": "display_data"
    }
   ],
   "source": [
    "dfSummary['grouping_method'].value_counts().head(30).plot(kind='barh', figsize=(8, 2))"
   ]
  },
  {
   "cell_type": "code",
   "execution_count": 8,
   "metadata": {},
   "outputs": [
    {
     "data": {
      "text/plain": [
       "<matplotlib.axes._subplots.AxesSubplot at 0x2335b6aabc8>"
      ]
     },
     "execution_count": 8,
     "metadata": {},
     "output_type": "execute_result"
    },
    {
     "data": {
      "image/png": "[encoded data removed]",
      "text/plain": [
       "<Figure size 576x144 with 1 Axes>"
      ]
     },
     "metadata": {
      "needs_background": "light"
     },
     "output_type": "display_data"
    }
   ],
   "source": [
    "dfSummary['filter'].value_counts().head(30).plot(kind='barh', figsize=(8, 2))"
   ]
  },
  {
   "cell_type": "code",
   "execution_count": 9,
   "metadata": {},
   "outputs": [
    {
     "data": {
      "text/plain": [
       "6085508304     1112\n",
       "6085504318     1112\n",
       "6085512510     1112\n",
       "60855033292    1112\n",
       "6085504317     1112\n",
       "               ... \n",
       "60855093032    1059\n",
       "60855093033    1055\n",
       "60855130002    1054\n",
       "60855033322    1035\n",
       "60855053013     956\n",
       "Name: geo, Length: 1448, dtype: int64"
      ]
     },
     "execution_count": 9,
     "metadata": {},
     "output_type": "execute_result"
    }
   ],
   "source": [
    "dfSummary['geo'].value_counts()"
   ]
  },
  {
   "cell_type": "code",
   "execution_count": 10,
   "metadata": {},
   "outputs": [
    {
     "data": {
      "text/plain": [
       "<matplotlib.axes._subplots.AxesSubplot at 0x2335b7f6c88>"
      ]
     },
     "execution_count": 10,
     "metadata": {},
     "output_type": "execute_result"
    },
    {
     "data": {
      "image/png": "[encoded data removed]",
      "text/plain": [
       "<Figure size 1440x360 with 1 Axes>"
      ]
     },
     "metadata": {
      "needs_background": "light"
     },
     "output_type": "display_data"
    }
   ],
   "source": [
    "plt.figure(figsize=(20,5))\n",
    "sns.boxplot(\n",
    "    data = dfSummary,\n",
    "    x = 'geo_type',\n",
    "    y = 'average_contacts'\n",
    ")"
   ]
  },
  {
   "cell_type": "code",
   "execution_count": 11,
   "metadata": {},
   "outputs": [
    {
     "data": {
      "text/html": [
       "<div>\n",
       "<style scoped>\n",
       "    .dataframe tbody tr th:only-of-type {\n",
       "        vertical-align: middle;\n",
       "    }\n",
       "\n",
       "    .dataframe tbody tr th {\n",
       "        vertical-align: top;\n",
       "    }\n",
       "\n",
       "    .dataframe thead th {\n",
       "        text-align: right;\n",
       "    }\n",
       "</style>\n",
       "<table border=\"1\" class=\"dataframe\">\n",
       "  <thead>\n",
       "    <tr style=\"text-align: right;\">\n",
       "      <th></th>\n",
       "      <th>geo</th>\n",
       "      <th>average_contacts</th>\n",
       "      <th>median_contacts</th>\n",
       "      <th>contact_devices</th>\n",
       "      <th>contacts</th>\n",
       "      <th>country</th>\n",
       "      <th>local_date</th>\n",
       "      <th>grouping_method</th>\n",
       "      <th>geo_type</th>\n",
       "      <th>filter</th>\n",
       "    </tr>\n",
       "  </thead>\n",
       "  <tbody>\n",
       "    <tr>\n",
       "      <td>0</td>\n",
       "      <td>60855001001</td>\n",
       "      <td>9.283333</td>\n",
       "      <td>4</td>\n",
       "      <td>60</td>\n",
       "      <td>544</td>\n",
       "      <td>USA</td>\n",
       "      <td>20200101</td>\n",
       "      <td>cel</td>\n",
       "      <td>cbg</td>\n",
       "      <td>noisy</td>\n",
       "    </tr>\n",
       "    <tr>\n",
       "      <td>1</td>\n",
       "      <td>60855001001</td>\n",
       "      <td>1.146341</td>\n",
       "      <td>1</td>\n",
       "      <td>164</td>\n",
       "      <td>94</td>\n",
       "      <td>USA</td>\n",
       "      <td>20200101</td>\n",
       "      <td>event_location</td>\n",
       "      <td>cbg</td>\n",
       "      <td>noisy</td>\n",
       "    </tr>\n",
       "    <tr>\n",
       "      <td>2</td>\n",
       "      <td>60855001001</td>\n",
       "      <td>5.500000</td>\n",
       "      <td>3</td>\n",
       "      <td>50</td>\n",
       "      <td>262</td>\n",
       "      <td>USA</td>\n",
       "      <td>20200101</td>\n",
       "      <td>cel</td>\n",
       "      <td>cbg</td>\n",
       "      <td>noisy_fast</td>\n",
       "    </tr>\n",
       "    <tr>\n",
       "      <td>3</td>\n",
       "      <td>60855001001</td>\n",
       "      <td>1.310345</td>\n",
       "      <td>1</td>\n",
       "      <td>29</td>\n",
       "      <td>19</td>\n",
       "      <td>USA</td>\n",
       "      <td>20200101</td>\n",
       "      <td>event_location</td>\n",
       "      <td>cbg</td>\n",
       "      <td>noisy_fast</td>\n",
       "    </tr>\n",
       "    <tr>\n",
       "      <td>4</td>\n",
       "      <td>60855001001</td>\n",
       "      <td>7.488372</td>\n",
       "      <td>3</td>\n",
       "      <td>43</td>\n",
       "      <td>316</td>\n",
       "      <td>USA</td>\n",
       "      <td>20200101</td>\n",
       "      <td>cel</td>\n",
       "      <td>cbg</td>\n",
       "      <td>noisy_slow</td>\n",
       "    </tr>\n",
       "    <tr>\n",
       "      <td>...</td>\n",
       "      <td>...</td>\n",
       "      <td>...</td>\n",
       "      <td>...</td>\n",
       "      <td>...</td>\n",
       "      <td>...</td>\n",
       "      <td>...</td>\n",
       "      <td>...</td>\n",
       "      <td>...</td>\n",
       "      <td>...</td>\n",
       "      <td>...</td>\n",
       "    </tr>\n",
       "    <tr>\n",
       "      <td>1596878</td>\n",
       "      <td>60855001001</td>\n",
       "      <td>1.125000</td>\n",
       "      <td>1</td>\n",
       "      <td>16</td>\n",
       "      <td>9</td>\n",
       "      <td>USA</td>\n",
       "      <td>20200531</td>\n",
       "      <td>event_location</td>\n",
       "      <td>cbg</td>\n",
       "      <td>noisy_fast</td>\n",
       "    </tr>\n",
       "    <tr>\n",
       "      <td>1596879</td>\n",
       "      <td>60855001001</td>\n",
       "      <td>4.923077</td>\n",
       "      <td>1</td>\n",
       "      <td>13</td>\n",
       "      <td>64</td>\n",
       "      <td>USA</td>\n",
       "      <td>20200531</td>\n",
       "      <td>cel</td>\n",
       "      <td>cbg</td>\n",
       "      <td>noisy_slow</td>\n",
       "    </tr>\n",
       "    <tr>\n",
       "      <td>1596880</td>\n",
       "      <td>60855001001</td>\n",
       "      <td>1.028571</td>\n",
       "      <td>1</td>\n",
       "      <td>35</td>\n",
       "      <td>18</td>\n",
       "      <td>USA</td>\n",
       "      <td>20200531</td>\n",
       "      <td>event_location</td>\n",
       "      <td>cbg</td>\n",
       "      <td>noisy_slow</td>\n",
       "    </tr>\n",
       "    <tr>\n",
       "      <td>1596881</td>\n",
       "      <td>60855001001</td>\n",
       "      <td>10.050000</td>\n",
       "      <td>2</td>\n",
       "      <td>20</td>\n",
       "      <td>200</td>\n",
       "      <td>USA</td>\n",
       "      <td>20200531</td>\n",
       "      <td>cel</td>\n",
       "      <td>cbg</td>\n",
       "      <td>none</td>\n",
       "    </tr>\n",
       "    <tr>\n",
       "      <td>1596882</td>\n",
       "      <td>60855001001</td>\n",
       "      <td>1.063830</td>\n",
       "      <td>1</td>\n",
       "      <td>47</td>\n",
       "      <td>25</td>\n",
       "      <td>USA</td>\n",
       "      <td>20200531</td>\n",
       "      <td>event_location</td>\n",
       "      <td>cbg</td>\n",
       "      <td>none</td>\n",
       "    </tr>\n",
       "  </tbody>\n",
       "</table>\n",
       "<p>1112 rows × 10 columns</p>\n",
       "</div>"
      ],
      "text/plain": [
       "                 geo  average_contacts  median_contacts  contact_devices  \\\n",
       "0        60855001001          9.283333                4               60   \n",
       "1        60855001001          1.146341                1              164   \n",
       "2        60855001001          5.500000                3               50   \n",
       "3        60855001001          1.310345                1               29   \n",
       "4        60855001001          7.488372                3               43   \n",
       "...              ...               ...              ...              ...   \n",
       "1596878  60855001001          1.125000                1               16   \n",
       "1596879  60855001001          4.923077                1               13   \n",
       "1596880  60855001001          1.028571                1               35   \n",
       "1596881  60855001001         10.050000                2               20   \n",
       "1596882  60855001001          1.063830                1               47   \n",
       "\n",
       "         contacts country  local_date grouping_method geo_type      filter  \n",
       "0             544     USA    20200101             cel      cbg       noisy  \n",
       "1              94     USA    20200101  event_location      cbg       noisy  \n",
       "2             262     USA    20200101             cel      cbg  noisy_fast  \n",
       "3              19     USA    20200101  event_location      cbg  noisy_fast  \n",
       "4             316     USA    20200101             cel      cbg  noisy_slow  \n",
       "...           ...     ...         ...             ...      ...         ...  \n",
       "1596878         9     USA    20200531  event_location      cbg  noisy_fast  \n",
       "1596879        64     USA    20200531             cel      cbg  noisy_slow  \n",
       "1596880        18     USA    20200531  event_location      cbg  noisy_slow  \n",
       "1596881       200     USA    20200531             cel      cbg        none  \n",
       "1596882        25     USA    20200531  event_location      cbg        none  \n",
       "\n",
       "[1112 rows x 10 columns]"
      ]
     },
     "execution_count": 11,
     "metadata": {},
     "output_type": "execute_result"
    }
   ],
   "source": [
    "# trying to understand the primary key of contacts summary table:\n",
    "\n",
    "dfSummary[dfSummary.geo == 60855001001]"
   ]
  },
  {
   "cell_type": "code",
   "execution_count": 15,
   "metadata": {},
   "outputs": [
    {
     "data": {
      "text/html": [
       "<div>\n",
       "<style scoped>\n",
       "    .dataframe tbody tr th:only-of-type {\n",
       "        vertical-align: middle;\n",
       "    }\n",
       "\n",
       "    .dataframe tbody tr th {\n",
       "        vertical-align: top;\n",
       "    }\n",
       "\n",
       "    .dataframe thead th {\n",
       "        text-align: right;\n",
       "    }\n",
       "</style>\n",
       "<table border=\"1\" class=\"dataframe\">\n",
       "  <thead>\n",
       "    <tr style=\"text-align: right;\">\n",
       "      <th></th>\n",
       "      <th>geo</th>\n",
       "      <th>average_contacts</th>\n",
       "      <th>median_contacts</th>\n",
       "      <th>contact_devices</th>\n",
       "      <th>contacts</th>\n",
       "      <th>country</th>\n",
       "      <th>local_date</th>\n",
       "      <th>grouping_method</th>\n",
       "      <th>geo_type</th>\n",
       "      <th>filter</th>\n",
       "    </tr>\n",
       "  </thead>\n",
       "  <tbody>\n",
       "    <tr>\n",
       "      <td>0</td>\n",
       "      <td>60855001001</td>\n",
       "      <td>9.283333</td>\n",
       "      <td>4</td>\n",
       "      <td>60</td>\n",
       "      <td>544</td>\n",
       "      <td>USA</td>\n",
       "      <td>20200101</td>\n",
       "      <td>cel</td>\n",
       "      <td>cbg</td>\n",
       "      <td>noisy</td>\n",
       "    </tr>\n",
       "    <tr>\n",
       "      <td>1</td>\n",
       "      <td>60855001001</td>\n",
       "      <td>1.146341</td>\n",
       "      <td>1</td>\n",
       "      <td>164</td>\n",
       "      <td>94</td>\n",
       "      <td>USA</td>\n",
       "      <td>20200101</td>\n",
       "      <td>event_location</td>\n",
       "      <td>cbg</td>\n",
       "      <td>noisy</td>\n",
       "    </tr>\n",
       "    <tr>\n",
       "      <td>2</td>\n",
       "      <td>60855001001</td>\n",
       "      <td>5.500000</td>\n",
       "      <td>3</td>\n",
       "      <td>50</td>\n",
       "      <td>262</td>\n",
       "      <td>USA</td>\n",
       "      <td>20200101</td>\n",
       "      <td>cel</td>\n",
       "      <td>cbg</td>\n",
       "      <td>noisy_fast</td>\n",
       "    </tr>\n",
       "    <tr>\n",
       "      <td>3</td>\n",
       "      <td>60855001001</td>\n",
       "      <td>1.310345</td>\n",
       "      <td>1</td>\n",
       "      <td>29</td>\n",
       "      <td>19</td>\n",
       "      <td>USA</td>\n",
       "      <td>20200101</td>\n",
       "      <td>event_location</td>\n",
       "      <td>cbg</td>\n",
       "      <td>noisy_fast</td>\n",
       "    </tr>\n",
       "    <tr>\n",
       "      <td>4</td>\n",
       "      <td>60855001001</td>\n",
       "      <td>7.488372</td>\n",
       "      <td>3</td>\n",
       "      <td>43</td>\n",
       "      <td>316</td>\n",
       "      <td>USA</td>\n",
       "      <td>20200101</td>\n",
       "      <td>cel</td>\n",
       "      <td>cbg</td>\n",
       "      <td>noisy_slow</td>\n",
       "    </tr>\n",
       "    <tr>\n",
       "      <td>5</td>\n",
       "      <td>60855001001</td>\n",
       "      <td>1.142857</td>\n",
       "      <td>1</td>\n",
       "      <td>147</td>\n",
       "      <td>84</td>\n",
       "      <td>USA</td>\n",
       "      <td>20200101</td>\n",
       "      <td>event_location</td>\n",
       "      <td>cbg</td>\n",
       "      <td>noisy_slow</td>\n",
       "    </tr>\n",
       "    <tr>\n",
       "      <td>6</td>\n",
       "      <td>60855001001</td>\n",
       "      <td>41.500000</td>\n",
       "      <td>6</td>\n",
       "      <td>68</td>\n",
       "      <td>2809</td>\n",
       "      <td>USA</td>\n",
       "      <td>20200101</td>\n",
       "      <td>cel</td>\n",
       "      <td>cbg</td>\n",
       "      <td>none</td>\n",
       "    </tr>\n",
       "    <tr>\n",
       "      <td>7</td>\n",
       "      <td>60855001001</td>\n",
       "      <td>1.163842</td>\n",
       "      <td>1</td>\n",
       "      <td>177</td>\n",
       "      <td>103</td>\n",
       "      <td>USA</td>\n",
       "      <td>20200101</td>\n",
       "      <td>event_location</td>\n",
       "      <td>cbg</td>\n",
       "      <td>none</td>\n",
       "    </tr>\n",
       "  </tbody>\n",
       "</table>\n",
       "</div>"
      ],
      "text/plain": [
       "           geo  average_contacts  median_contacts  contact_devices  contacts  \\\n",
       "0  60855001001          9.283333                4               60       544   \n",
       "1  60855001001          1.146341                1              164        94   \n",
       "2  60855001001          5.500000                3               50       262   \n",
       "3  60855001001          1.310345                1               29        19   \n",
       "4  60855001001          7.488372                3               43       316   \n",
       "5  60855001001          1.142857                1              147        84   \n",
       "6  60855001001         41.500000                6               68      2809   \n",
       "7  60855001001          1.163842                1              177       103   \n",
       "\n",
       "  country  local_date grouping_method geo_type      filter  \n",
       "0     USA    20200101             cel      cbg       noisy  \n",
       "1     USA    20200101  event_location      cbg       noisy  \n",
       "2     USA    20200101             cel      cbg  noisy_fast  \n",
       "3     USA    20200101  event_location      cbg  noisy_fast  \n",
       "4     USA    20200101             cel      cbg  noisy_slow  \n",
       "5     USA    20200101  event_location      cbg  noisy_slow  \n",
       "6     USA    20200101             cel      cbg        none  \n",
       "7     USA    20200101  event_location      cbg        none  "
      ]
     },
     "execution_count": 15,
     "metadata": {},
     "output_type": "execute_result"
    }
   ],
   "source": [
    "dfSummary.query(\"geo == 60855001001 & local_date == 20200101 \")"
   ]
  },
  {
   "cell_type": "code",
   "execution_count": 16,
   "metadata": {},
   "outputs": [
    {
     "ename": "SyntaxError",
     "evalue": "Python keyword not valid identifier in numexpr query (<unknown>, line 1)",
     "output_type": "error",
     "traceback": [
      "Traceback \u001b[1;36m(most recent call last)\u001b[0m:\n",
      "  File \u001b[0;32m\"C:\\Users\\adhoc\\Anaconda3\\lib\\site-packages\\IPython\\core\\interactiveshell.py\"\u001b[0m, line \u001b[0;32m3326\u001b[0m, in \u001b[0;35mrun_code\u001b[0m\n    exec(code_obj, self.user_global_ns, self.user_ns)\n",
      "  File \u001b[0;32m\"<ipython-input-16-f21ed8fe4b4a>\"\u001b[0m, line \u001b[0;32m1\u001b[0m, in \u001b[0;35m<module>\u001b[0m\n    dfSummary.query(\"geo == 60855001001 & local_date == 20200101 & grouping_method = `cel` \")\n",
      "  File \u001b[0;32m\"C:\\Users\\adhoc\\Anaconda3\\lib\\site-packages\\pandas\\core\\frame.py\"\u001b[0m, line \u001b[0;32m3184\u001b[0m, in \u001b[0;35mquery\u001b[0m\n    res = self.eval(expr, **kwargs)\n",
      "  File \u001b[0;32m\"C:\\Users\\adhoc\\Anaconda3\\lib\\site-packages\\pandas\\core\\frame.py\"\u001b[0m, line \u001b[0;32m3300\u001b[0m, in \u001b[0;35meval\u001b[0m\n    return _eval(expr, inplace=inplace, **kwargs)\n",
      "  File \u001b[0;32m\"C:\\Users\\adhoc\\Anaconda3\\lib\\site-packages\\pandas\\core\\computation\\eval.py\"\u001b[0m, line \u001b[0;32m322\u001b[0m, in \u001b[0;35meval\u001b[0m\n    parsed_expr = Expr(expr, engine=engine, parser=parser, env=env, truediv=truediv)\n",
      "  File \u001b[0;32m\"C:\\Users\\adhoc\\Anaconda3\\lib\\site-packages\\pandas\\core\\computation\\expr.py\"\u001b[0m, line \u001b[0;32m827\u001b[0m, in \u001b[0;35m__init__\u001b[0m\n    self.terms = self.parse()\n",
      "  File \u001b[0;32m\"C:\\Users\\adhoc\\Anaconda3\\lib\\site-packages\\pandas\\core\\computation\\expr.py\"\u001b[0m, line \u001b[0;32m844\u001b[0m, in \u001b[0;35mparse\u001b[0m\n    return self._visitor.visit(self.expr)\n",
      "  File \u001b[0;32m\"C:\\Users\\adhoc\\Anaconda3\\lib\\site-packages\\pandas\\core\\computation\\expr.py\"\u001b[0m, line \u001b[0;32m437\u001b[0m, in \u001b[0;35mvisit\u001b[0m\n    raise e\n",
      "  File \u001b[0;32m\"C:\\Users\\adhoc\\Anaconda3\\lib\\site-packages\\pandas\\core\\computation\\expr.py\"\u001b[0m, line \u001b[0;32m431\u001b[0m, in \u001b[0;35mvisit\u001b[0m\n    node = ast.fix_missing_locations(ast.parse(clean))\n",
      "\u001b[1;36m  File \u001b[1;32m\"C:\\Users\\adhoc\\Anaconda3\\lib\\ast.py\"\u001b[1;36m, line \u001b[1;32m35\u001b[1;36m, in \u001b[1;35mparse\u001b[1;36m\u001b[0m\n\u001b[1;33m    return compile(source, filename, mode, PyCF_ONLY_AST)\u001b[0m\n",
      "\u001b[1;36m  File \u001b[1;32m\"<unknown>\"\u001b[1;36m, line \u001b[1;32m1\u001b[0m\n\u001b[1;31mSyntaxError\u001b[0m\u001b[1;31m:\u001b[0m Python keyword not valid identifier in numexpr query\n"
     ]
    }
   ],
   "source": [
    "dfSummary.query(\"geo == 60855001001 & local_date == 20200101 & grouping_method = `cel`\")"
   ]
  },
  {
   "cell_type": "code",
   "execution_count": null,
   "metadata": {},
   "outputs": [],
   "source": []
  }
 ],
 "metadata": {
  "kernelspec": {
   "display_name": "Python 3",
   "language": "python",
   "name": "python3"
  },
  "language_info": {
   "codemirror_mode": {
    "name": "ipython",
    "version": 3
   },
   "file_extension": ".py",
   "mimetype": "text/x-python",
   "name": "python",
   "nbconvert_exporter": "python",
   "pygments_lexer": "ipython3",
   "version": "3.7.4"
  }
 },
 "nbformat": 4,
 "nbformat_minor": 2
}
