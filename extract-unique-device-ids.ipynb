{
 "cells": [
  {
   "cell_type": "code",
   "execution_count": 1,
   "metadata": {},
   "outputs": [],
   "source": [
    "# outputs a file with unique hashid, first appearance date in the dataset (not the first date), number of days it was found in the dataset."
   ]
  },
  {
   "cell_type": "code",
   "execution_count": 4,
   "metadata": {},
   "outputs": [],
   "source": [
    "import dask.dataframe as dd\n",
    "from datetime import datetime, timedelta\n",
    "exec(open(\"./lib/splitter.py\").read())"
   ]
  },
  {
   "cell_type": "code",
   "execution_count": 25,
   "metadata": {},
   "outputs": [],
   "source": [
    "outputDir = './data/splitted' + '/'\n",
    "outputPrefix= '_'\n",
    "inputFile = './data/Santa_Clara_County_Pin_Report_2e7.tsv'\n",
    "df = dd.read_csv(inputFile, sep='\\t')\n",
    "df = df.rename(columns=columnNamesMap)\n",
    "outputPath = outputDir + outputPrefix + 'unique_devices.csv'"
   ]
  },
  {
   "cell_type": "code",
   "execution_count": 26,
   "metadata": {},
   "outputs": [
    {
     "name": "stdout",
     "output_type": "stream",
     "text": [
      "Ongoing: found 10000 unique device ids.\n",
      "Ongoing: found 20000 unique device ids.\n",
      "Ongoing: found 30000 unique device ids.\n",
      "Ongoing: found 40000 unique device ids.\n",
      "Ongoing: found 50000 unique device ids.\n",
      "Ongoing: found 60000 unique device ids.\n",
      "Ongoing: found 70000 unique device ids.\n",
      "Ongoing: found 80000 unique device ids.\n",
      "Ongoing: found 90000 unique device ids.\n",
      "Ongoing: found 100000 unique device ids.\n",
      "Ongoing: found 110000 unique device ids.\n",
      "Ongoing: found 120000 unique device ids.\n",
      "Ongoing: found 130000 unique device ids.\n",
      "Ongoing: found 140000 unique device ids.\n",
      "Ongoing: found 150000 unique device ids.\n",
      "Ongoing: found 160000 unique device ids.\n",
      "Ongoing: found 170000 unique device ids.\n",
      "Done: found 173301 unique device ids.\n"
     ]
    }
   ],
   "source": [
    "cachedRows = {}\n",
    "for index, row in df.iterrows():\n",
    "    if row['hid'] in cachedRows:\n",
    "        # check if the dates are the same:\n",
    "        if cachedRows[row['hid']][0] != row['date']:\n",
    "            cachedRows[row['hid']][1] = 1\n",
    "    else:\n",
    "        cachedRows[row['hid']] = [row['date'], 0]\n",
    "        if len(cachedRows) % 10000 == 0:\n",
    "            print(f\"Ongoing: found {len(cachedRows)} unique device ids.\") \n",
    "    \n",
    "\n",
    "print(f\"Done: found {len(cachedRows)} unique device ids.\") \n",
    "        "
   ]
  },
  {
   "cell_type": "code",
   "execution_count": 27,
   "metadata": {},
   "outputs": [],
   "source": [
    "\n",
    "with open(outputPath, 'w+') as file:\n",
    "    file.write(\"hid,first_date,hasManyDays\\n\")\n",
    "    for hid in cachedRows:\n",
    "        file.write(f\"{hid},{cachedRows[hid][0]},{cachedRows[hid][1]}\\n\")"
   ]
  },
  {
   "cell_type": "code",
   "execution_count": null,
   "metadata": {},
   "outputs": [],
   "source": []
  }
 ],
 "metadata": {
  "kernelspec": {
   "display_name": "Python 3",
   "language": "python",
   "name": "python3"
  },
  "language_info": {
   "codemirror_mode": {
    "name": "ipython",
    "version": 3
   },
   "file_extension": ".py",
   "mimetype": "text/x-python",
   "name": "python",
   "nbconvert_exporter": "python",
   "pygments_lexer": "ipython3",
   "version": "3.7.4"
  }
 },
 "nbformat": 4,
 "nbformat_minor": 2
}
