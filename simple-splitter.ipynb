{
 "cells": [
  {
   "cell_type": "code",
   "execution_count": 1,
   "metadata": {},
   "outputs": [],
   "source": [
    "import dask.dataframe as dd"
   ]
  },
  {
   "cell_type": "code",
   "execution_count": 2,
   "metadata": {},
   "outputs": [],
   "source": [
    "df = dd.read_csv('Santa_Clara_County_Pin_Report_1e6.tsv', sep='\\t')"
   ]
  },
  {
   "cell_type": "code",
   "execution_count": 3,
   "metadata": {},
   "outputs": [
    {
     "data": {
      "text/html": [
       "<div>\n",
       "<style scoped>\n",
       "    .dataframe tbody tr th:only-of-type {\n",
       "        vertical-align: middle;\n",
       "    }\n",
       "\n",
       "    .dataframe tbody tr th {\n",
       "        vertical-align: top;\n",
       "    }\n",
       "\n",
       "    .dataframe thead th {\n",
       "        text-align: right;\n",
       "    }\n",
       "</style>\n",
       "<table border=\"1\" class=\"dataframe\">\n",
       "  <thead>\n",
       "    <tr style=\"text-align: right;\">\n",
       "      <th></th>\n",
       "      <th>Polygon ID</th>\n",
       "      <th>Hashed Device ID</th>\n",
       "      <th>Lat of Visit</th>\n",
       "      <th>Lon of Visit</th>\n",
       "      <th>Unix Timestamp of Visit</th>\n",
       "      <th>Date</th>\n",
       "      <th>Time of Day</th>\n",
       "      <th>Day of Week</th>\n",
       "      <th>Time Zone</th>\n",
       "    </tr>\n",
       "  </thead>\n",
       "  <tbody>\n",
       "    <tr>\n",
       "      <td>0</td>\n",
       "      <td>Santa Clara County</td>\n",
       "      <td>8880011d4969dafb2bff89d4da1a37c994292941</td>\n",
       "      <td>36.900276</td>\n",
       "      <td>-121.581208</td>\n",
       "      <td>1576733932</td>\n",
       "      <td>2019-12-18</td>\n",
       "      <td>21:38:52</td>\n",
       "      <td>Wed</td>\n",
       "      <td>America/Los_Angeles</td>\n",
       "    </tr>\n",
       "    <tr>\n",
       "      <td>1</td>\n",
       "      <td>Santa Clara County</td>\n",
       "      <td>8880011d4969dafb2bff89d4da1a37c994292941</td>\n",
       "      <td>36.898245</td>\n",
       "      <td>-121.574142</td>\n",
       "      <td>1576733977</td>\n",
       "      <td>2019-12-18</td>\n",
       "      <td>21:39:37</td>\n",
       "      <td>Wed</td>\n",
       "      <td>America/Los_Angeles</td>\n",
       "    </tr>\n",
       "    <tr>\n",
       "      <td>2</td>\n",
       "      <td>Santa Clara County</td>\n",
       "      <td>8880011d4969dafb2bff89d4da1a37c994292941</td>\n",
       "      <td>36.897755</td>\n",
       "      <td>-121.565889</td>\n",
       "      <td>1576734022</td>\n",
       "      <td>2019-12-18</td>\n",
       "      <td>21:40:22</td>\n",
       "      <td>Wed</td>\n",
       "      <td>America/Los_Angeles</td>\n",
       "    </tr>\n",
       "    <tr>\n",
       "      <td>3</td>\n",
       "      <td>Santa Clara County</td>\n",
       "      <td>8880011d4969dafb2bff89d4da1a37c994292941</td>\n",
       "      <td>36.900589</td>\n",
       "      <td>-121.560763</td>\n",
       "      <td>1576734067</td>\n",
       "      <td>2019-12-18</td>\n",
       "      <td>21:41:07</td>\n",
       "      <td>Wed</td>\n",
       "      <td>America/Los_Angeles</td>\n",
       "    </tr>\n",
       "    <tr>\n",
       "      <td>4</td>\n",
       "      <td>Santa Clara County</td>\n",
       "      <td>8880011d4969dafb2bff89d4da1a37c994292941</td>\n",
       "      <td>36.906981</td>\n",
       "      <td>-121.559551</td>\n",
       "      <td>1576734113</td>\n",
       "      <td>2019-12-18</td>\n",
       "      <td>21:41:53</td>\n",
       "      <td>Wed</td>\n",
       "      <td>America/Los_Angeles</td>\n",
       "    </tr>\n",
       "  </tbody>\n",
       "</table>\n",
       "</div>"
      ],
      "text/plain": [
       "           Polygon ID                          Hashed Device ID  Lat of Visit  \\\n",
       "0  Santa Clara County  8880011d4969dafb2bff89d4da1a37c994292941     36.900276   \n",
       "1  Santa Clara County  8880011d4969dafb2bff89d4da1a37c994292941     36.898245   \n",
       "2  Santa Clara County  8880011d4969dafb2bff89d4da1a37c994292941     36.897755   \n",
       "3  Santa Clara County  8880011d4969dafb2bff89d4da1a37c994292941     36.900589   \n",
       "4  Santa Clara County  8880011d4969dafb2bff89d4da1a37c994292941     36.906981   \n",
       "\n",
       "   Lon of Visit  Unix Timestamp of Visit        Date Time of Day Day of Week  \\\n",
       "0   -121.581208               1576733932  2019-12-18    21:38:52         Wed   \n",
       "1   -121.574142               1576733977  2019-12-18    21:39:37         Wed   \n",
       "2   -121.565889               1576734022  2019-12-18    21:40:22         Wed   \n",
       "3   -121.560763               1576734067  2019-12-18    21:41:07         Wed   \n",
       "4   -121.559551               1576734113  2019-12-18    21:41:53         Wed   \n",
       "\n",
       "             Time Zone  \n",
       "0  America/Los_Angeles  \n",
       "1  America/Los_Angeles  \n",
       "2  America/Los_Angeles  \n",
       "3  America/Los_Angeles  \n",
       "4  America/Los_Angeles  "
      ]
     },
     "execution_count": 3,
     "metadata": {},
     "output_type": "execute_result"
    }
   ],
   "source": [
    "df.head()"
   ]
  },
  {
   "cell_type": "code",
   "execution_count": 9,
   "metadata": {},
   "outputs": [
    {
     "data": {
      "text/plain": [
       "Dask Series Structure:\n",
       "npartitions=1\n",
       "    object\n",
       "       ...\n",
       "Name: Date, dtype: object\n",
       "Dask Name: describe-nonnumeric, 26 tasks"
      ]
     },
     "execution_count": 9,
     "metadata": {},
     "output_type": "execute_result"
    }
   ],
   "source": [
    "df['Date'].describe()"
   ]
  },
  {
   "cell_type": "code",
   "execution_count": null,
   "metadata": {},
   "outputs": [],
   "source": []
  }
 ],
 "metadata": {
  "kernelspec": {
   "display_name": "Python 3",
   "language": "python",
   "name": "python3"
  },
  "language_info": {
   "codemirror_mode": {
    "name": "ipython",
    "version": 3
   },
   "file_extension": ".py",
   "mimetype": "text/x-python",
   "name": "python",
   "nbconvert_exporter": "python",
   "pygments_lexer": "ipython3",
   "version": "3.7.4"
  }
 },
 "nbformat": 4,
 "nbformat_minor": 2
}
