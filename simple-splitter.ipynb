{
 "cells": [
  {
   "cell_type": "code",
   "execution_count": 1,
   "metadata": {},
   "outputs": [],
   "source": [
    "import dask.dataframe as dd\n",
    "from datetime import datetime, timedelta"
   ]
  },
  {
   "cell_type": "code",
   "execution_count": 2,
   "metadata": {},
   "outputs": [],
   "source": [
    "startDate = '2019-12-18'\n",
    "endDate = '2019-12-30'\n",
    "outputDir = './data/splitted' + '/'\n",
    "outputPrefix = 'out_'\n",
    "inputFile = './data/Santa_Clara_County_Pin_Report_1e6.tsv'\n",
    "\n",
    "flushThresholdPerDate = 1000 # We will cache rows for a date in memory before writing to the files.\n",
    "\n",
    "\n"
   ]
  },
  {
   "cell_type": "code",
   "execution_count": 3,
   "metadata": {},
   "outputs": [],
   "source": [
    "def getDateStrings(startDate, endDate):\n",
    "    start = datetime.strptime(startDate, \"%Y-%m-%d\")\n",
    "    end = datetime.strptime(endDate, \"%Y-%m-%d\")\n",
    "    days = (end - start).days\n",
    "    dayDelta = timedelta(days = 1)\n",
    "    dateStrings = []\n",
    "    \n",
    "    for _ in range(days+1):\n",
    "        dateStrings.append(start.strftime(\"%Y-%m-%d\"))\n",
    "        start = start + dayDelta\n",
    "        \n",
    "    return dateStrings\n",
    "        "
   ]
  },
  {
   "cell_type": "code",
   "execution_count": 4,
   "metadata": {},
   "outputs": [],
   "source": [
    "def getInitializedCacheRows(dates):\n",
    "    cachedRows = {}\n",
    "    for date in dates:\n",
    "        cachedRows[date] = []\n",
    "    \n",
    "    return cachedRows\n",
    "\n",
    "# flushes data to file if the cachedData grows beyond a threshold\n",
    "def flushDataToFiles(cachedRows, force=False):\n",
    "    \n",
    "    print(f'flushing data to files, force: {force}')\n",
    "    \n",
    "    if force is False:\n",
    "        for date in cachedRows:\n",
    "            if len(cachedRows[date]) >= flushThresholdPerDate:\n",
    "                writeToFile(date, cachedRows[date])\n",
    "    else:\n",
    "        for date in cachedRows:\n",
    "            writeToFile(date, cachedRows[date])\n",
    "            \n",
    "    # empty cache\n",
    "    for date in cachedRows:\n",
    "        cachedRows[date] = []\n",
    "            \n",
    "    pass\n",
    "\n",
    "\n",
    "def getOutputFilename(dateStr):\n",
    "    return outputDir + outputPrefix + dateStr + \".csv\"\n",
    "\n",
    "def toCsv(rows):\n",
    "    csv = \"\"\n",
    "    for row in rows:    \n",
    "        csv = csv + f\"{row['pid']},{row['hid']},{row['lat']},{row['lon']},{row['ts']},{row['td']},{row['dw']},{row['tz']} \\n\"\n",
    "    return csv\n",
    "\n",
    "\n",
    "def initFiles(dates):\n",
    "    for date in dates:\n",
    "        filename = getOutputFilename(date)\n",
    "        with open(filename, 'w') as f:\n",
    "            f.write(\"pid, hid, lat, lon, ts, td, dw, tz \\n\")\n",
    "            \n",
    "        \n",
    "    \n",
    "def writeToFile(dateStr, rows):\n",
    "    filename = getOutputFilename(dateStr)\n",
    "    with open(filename, 'a+') as file:\n",
    "        file.write(toCsv(rows))\n",
    "    \n",
    "        \n",
    "    "
   ]
  },
  {
   "cell_type": "code",
   "execution_count": 5,
   "metadata": {},
   "outputs": [],
   "source": [
    "columnNamesMap = {\n",
    "    'Polygon ID': \"pid\",\n",
    "    'Hashed Device ID': \"hid\",\n",
    "    'Lat of Visit': 'lat',\n",
    "    'Lon of Visit': 'lon',\n",
    "    'Unix Timestamp of Visit': 'ts',\n",
    "    'Date': 'date',\n",
    "    'Time of Day': 'td',\n",
    "    'Day of Week': 'dw',\n",
    "    'Time Zone': 'tz'\n",
    "    \n",
    "}\n"
   ]
  },
  {
   "cell_type": "code",
   "execution_count": 6,
   "metadata": {},
   "outputs": [],
   "source": [
    "df = dd.read_csv('./data/Santa_Clara_County_Pin_Report_1e6.tsv', sep='\\t')\n"
   ]
  },
  {
   "cell_type": "code",
   "execution_count": 7,
   "metadata": {
    "scrolled": true
   },
   "outputs": [
    {
     "data": {
      "text/html": [
       "<div>\n",
       "<style scoped>\n",
       "    .dataframe tbody tr th:only-of-type {\n",
       "        vertical-align: middle;\n",
       "    }\n",
       "\n",
       "    .dataframe tbody tr th {\n",
       "        vertical-align: top;\n",
       "    }\n",
       "\n",
       "    .dataframe thead th {\n",
       "        text-align: right;\n",
       "    }\n",
       "</style>\n",
       "<table border=\"1\" class=\"dataframe\">\n",
       "  <thead>\n",
       "    <tr style=\"text-align: right;\">\n",
       "      <th></th>\n",
       "      <th>Polygon ID</th>\n",
       "      <th>Hashed Device ID</th>\n",
       "      <th>Lat of Visit</th>\n",
       "      <th>Lon of Visit</th>\n",
       "      <th>Unix Timestamp of Visit</th>\n",
       "      <th>Date</th>\n",
       "      <th>Time of Day</th>\n",
       "      <th>Day of Week</th>\n",
       "      <th>Time Zone</th>\n",
       "    </tr>\n",
       "  </thead>\n",
       "  <tbody>\n",
       "    <tr>\n",
       "      <td>0</td>\n",
       "      <td>Santa Clara County</td>\n",
       "      <td>8880011d4969dafb2bff89d4da1a37c994292941</td>\n",
       "      <td>36.900276</td>\n",
       "      <td>-121.581208</td>\n",
       "      <td>1576733932</td>\n",
       "      <td>2019-12-18</td>\n",
       "      <td>21:38:52</td>\n",
       "      <td>Wed</td>\n",
       "      <td>America/Los_Angeles</td>\n",
       "    </tr>\n",
       "    <tr>\n",
       "      <td>1</td>\n",
       "      <td>Santa Clara County</td>\n",
       "      <td>8880011d4969dafb2bff89d4da1a37c994292941</td>\n",
       "      <td>36.898245</td>\n",
       "      <td>-121.574142</td>\n",
       "      <td>1576733977</td>\n",
       "      <td>2019-12-18</td>\n",
       "      <td>21:39:37</td>\n",
       "      <td>Wed</td>\n",
       "      <td>America/Los_Angeles</td>\n",
       "    </tr>\n",
       "    <tr>\n",
       "      <td>2</td>\n",
       "      <td>Santa Clara County</td>\n",
       "      <td>8880011d4969dafb2bff89d4da1a37c994292941</td>\n",
       "      <td>36.897755</td>\n",
       "      <td>-121.565889</td>\n",
       "      <td>1576734022</td>\n",
       "      <td>2019-12-18</td>\n",
       "      <td>21:40:22</td>\n",
       "      <td>Wed</td>\n",
       "      <td>America/Los_Angeles</td>\n",
       "    </tr>\n",
       "    <tr>\n",
       "      <td>3</td>\n",
       "      <td>Santa Clara County</td>\n",
       "      <td>8880011d4969dafb2bff89d4da1a37c994292941</td>\n",
       "      <td>36.900589</td>\n",
       "      <td>-121.560763</td>\n",
       "      <td>1576734067</td>\n",
       "      <td>2019-12-18</td>\n",
       "      <td>21:41:07</td>\n",
       "      <td>Wed</td>\n",
       "      <td>America/Los_Angeles</td>\n",
       "    </tr>\n",
       "    <tr>\n",
       "      <td>4</td>\n",
       "      <td>Santa Clara County</td>\n",
       "      <td>8880011d4969dafb2bff89d4da1a37c994292941</td>\n",
       "      <td>36.906981</td>\n",
       "      <td>-121.559551</td>\n",
       "      <td>1576734113</td>\n",
       "      <td>2019-12-18</td>\n",
       "      <td>21:41:53</td>\n",
       "      <td>Wed</td>\n",
       "      <td>America/Los_Angeles</td>\n",
       "    </tr>\n",
       "  </tbody>\n",
       "</table>\n",
       "</div>"
      ],
      "text/plain": [
       "           Polygon ID                          Hashed Device ID  Lat of Visit  \\\n",
       "0  Santa Clara County  8880011d4969dafb2bff89d4da1a37c994292941     36.900276   \n",
       "1  Santa Clara County  8880011d4969dafb2bff89d4da1a37c994292941     36.898245   \n",
       "2  Santa Clara County  8880011d4969dafb2bff89d4da1a37c994292941     36.897755   \n",
       "3  Santa Clara County  8880011d4969dafb2bff89d4da1a37c994292941     36.900589   \n",
       "4  Santa Clara County  8880011d4969dafb2bff89d4da1a37c994292941     36.906981   \n",
       "\n",
       "   Lon of Visit  Unix Timestamp of Visit        Date Time of Day Day of Week  \\\n",
       "0   -121.581208               1576733932  2019-12-18    21:38:52         Wed   \n",
       "1   -121.574142               1576733977  2019-12-18    21:39:37         Wed   \n",
       "2   -121.565889               1576734022  2019-12-18    21:40:22         Wed   \n",
       "3   -121.560763               1576734067  2019-12-18    21:41:07         Wed   \n",
       "4   -121.559551               1576734113  2019-12-18    21:41:53         Wed   \n",
       "\n",
       "             Time Zone  \n",
       "0  America/Los_Angeles  \n",
       "1  America/Los_Angeles  \n",
       "2  America/Los_Angeles  \n",
       "3  America/Los_Angeles  \n",
       "4  America/Los_Angeles  "
      ]
     },
     "execution_count": 7,
     "metadata": {},
     "output_type": "execute_result"
    }
   ],
   "source": [
    "df.head(5)"
   ]
  },
  {
   "cell_type": "code",
   "execution_count": 15,
   "metadata": {},
   "outputs": [
    {
     "ename": "TypeError",
     "evalue": "'Scalar' object is not callable",
     "output_type": "error",
     "traceback": [
      "\u001b[1;31m---------------------------------------------------------------------------\u001b[0m",
      "\u001b[1;31mTypeError\u001b[0m                                 Traceback (most recent call last)",
      "\u001b[1;32m<ipython-input-15-3c6d3b3b3810>\u001b[0m in \u001b[0;36m<module>\u001b[1;34m\u001b[0m\n\u001b[0;32m      1\u001b[0m \u001b[0mdf\u001b[0m \u001b[1;33m=\u001b[0m \u001b[0mdf\u001b[0m\u001b[1;33m.\u001b[0m\u001b[0mrename\u001b[0m\u001b[1;33m(\u001b[0m\u001b[0mcolumns\u001b[0m\u001b[1;33m=\u001b[0m\u001b[0mcolumnNamesMap\u001b[0m\u001b[1;33m)\u001b[0m\u001b[1;33m\u001b[0m\u001b[1;33m\u001b[0m\u001b[0m\n\u001b[0;32m      2\u001b[0m \u001b[0mdf\u001b[0m\u001b[1;33m.\u001b[0m\u001b[0mhead\u001b[0m\u001b[1;33m(\u001b[0m\u001b[1;36m5\u001b[0m\u001b[1;33m)\u001b[0m\u001b[1;33m\u001b[0m\u001b[1;33m\u001b[0m\u001b[0m\n\u001b[1;32m----> 3\u001b[1;33m \u001b[0mdf\u001b[0m\u001b[1;33m.\u001b[0m\u001b[0msize\u001b[0m\u001b[1;33m(\u001b[0m\u001b[1;33m)\u001b[0m\u001b[1;33m\u001b[0m\u001b[1;33m\u001b[0m\u001b[0m\n\u001b[0m",
      "\u001b[1;31mTypeError\u001b[0m: 'Scalar' object is not callable"
     ]
    }
   ],
   "source": [
    "df = df.rename(columns=columnNamesMap)\n",
    "df.head(5)\n"
   ]
  },
  {
   "cell_type": "code",
   "execution_count": null,
   "metadata": {},
   "outputs": [
    {
     "name": "stdout",
     "output_type": "stream",
     "text": [
      "flushing files, force: False\n",
      "wrote 100000 lines.\n",
      "flushing files, force: False\n",
      "wrote 200000 lines.\n",
      "flushing files, force: False\n"
     ]
    }
   ],
   "source": [
    "# task 1: generate string dates from start and end\n",
    "\n",
    "dates = getDateStrings(startDate, endDate)\n",
    "initFiles(dates)\n",
    "\n",
    "# we will caches rows for each date until flushed to files. keys: dates, values: list of rows\n",
    "cachedRows = getInitializedCacheRows(dates)\n",
    "flushSize = 100000 # write after parsing flushSize number of rows.\n",
    "progress = 0\n",
    "\n",
    "count = 0 # to track number of rows in cache   \n",
    "for index, row in df.iterrows():\n",
    "    progress = progress + 1\n",
    "    \n",
    "        \n",
    "    if row['date'] in dates:\n",
    "        cachedRows[row['date']].append(row)\n",
    "        \n",
    "    count += 1\n",
    "    if count >= flushSize:\n",
    "        flushDataToFiles(cachedRows)\n",
    "        print(f\"wrote {progress} lines.\")\n",
    "        count = 0\n",
    "\n",
    "flushDataToFiles(cachedRows, force=True)\n",
    "print(f\"wrote {progress} lines.\")\n",
    "        \n"
   ]
  },
  {
   "cell_type": "code",
   "execution_count": null,
   "metadata": {},
   "outputs": [],
   "source": []
  }
 ],
 "metadata": {
  "kernelspec": {
   "display_name": "Python 3",
   "language": "python",
   "name": "python3"
  },
  "language_info": {
   "codemirror_mode": {
    "name": "ipython",
    "version": 3
   },
   "file_extension": ".py",
   "mimetype": "text/x-python",
   "name": "python",
   "nbconvert_exporter": "python",
   "pygments_lexer": "ipython3",
   "version": "3.7.4"
  }
 },
 "nbformat": 4,
 "nbformat_minor": 2
}
