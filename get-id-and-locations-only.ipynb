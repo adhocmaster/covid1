{
 "cells": [
  {
   "cell_type": "code",
   "execution_count": 23,
   "metadata": {},
   "outputs": [],
   "source": [
    "import dask.dataframe as dd\n",
    "import pandas as pd\n",
    "from datetime import datetime, timedelta\n",
    "exec(open(\"./lib/splitter.py\").read())\n",
    "exec(open(\"./lib/distance.py\").read())"
   ]
  },
  {
   "cell_type": "code",
   "execution_count": 2,
   "metadata": {},
   "outputs": [],
   "source": [
    "import math\n",
    "import matplotlib.pyplot as plt\n",
    "import seaborn as sns\n",
    "sns.set(style=\"darkgrid\")"
   ]
  },
  {
   "cell_type": "code",
   "execution_count": 3,
   "metadata": {},
   "outputs": [],
   "source": [
    "date = datetime.strptime('2000-01-01', \"%Y-%m-%d\")\n",
    "inputFile = './data/splitted/out_2019-12-19.csv'\n",
    "df = pd.read_csv(inputFile)"
   ]
  },
  {
   "cell_type": "code",
   "execution_count": 16,
   "metadata": {},
   "outputs": [
    {
     "data": {
      "text/plain": [
       "(10556725, 11)"
      ]
     },
     "execution_count": 16,
     "metadata": {},
     "output_type": "execute_result"
    }
   ],
   "source": [
    "df.shape"
   ]
  },
  {
   "cell_type": "code",
   "execution_count": 9,
   "metadata": {},
   "outputs": [],
   "source": [
    "hids = df.hid.unique()"
   ]
  },
  {
   "cell_type": "code",
   "execution_count": 10,
   "metadata": {},
   "outputs": [
    {
     "data": {
      "text/plain": [
       "array(['8b36e7aa0781e013ba4f656aaac11c87c6d63816',\n",
       "       '863934991c5d1389bd16132567a286148108f3d0',\n",
       "       'e707a9304de98308883ecac832ea47917f395cd5', ...,\n",
       "       'e0fdf2fdb5472db38c8b441ff52c0f63ad0314a3',\n",
       "       '7f0db7232995d43115c8b5c8fea8906d4241162a',\n",
       "       'c8e7b0780e5219f34346f36c10c381a5d326a372'], dtype=object)"
      ]
     },
     "execution_count": 10,
     "metadata": {},
     "output_type": "execute_result"
    }
   ],
   "source": [
    "hids"
   ]
  },
  {
   "cell_type": "code",
   "execution_count": 11,
   "metadata": {},
   "outputs": [
    {
     "data": {
      "text/plain": [
       "126590"
      ]
     },
     "execution_count": 11,
     "metadata": {},
     "output_type": "execute_result"
    }
   ],
   "source": [
    "len(df.hid.unique())"
   ]
  },
  {
   "cell_type": "code",
   "execution_count": 12,
   "metadata": {},
   "outputs": [
    {
     "data": {
      "text/plain": [
       "126590"
      ]
     },
     "execution_count": 12,
     "metadata": {},
     "output_type": "execute_result"
    }
   ],
   "source": [
    "len(hids)"
   ]
  },
  {
   "cell_type": "code",
   "execution_count": 14,
   "metadata": {},
   "outputs": [
    {
     "data": {
      "text/html": [
       "<div>\n",
       "<style scoped>\n",
       "    .dataframe tbody tr th:only-of-type {\n",
       "        vertical-align: middle;\n",
       "    }\n",
       "\n",
       "    .dataframe tbody tr th {\n",
       "        vertical-align: top;\n",
       "    }\n",
       "\n",
       "    .dataframe thead th {\n",
       "        text-align: right;\n",
       "    }\n",
       "</style>\n",
       "<table border=\"1\" class=\"dataframe\">\n",
       "  <thead>\n",
       "    <tr style=\"text-align: right;\">\n",
       "      <th></th>\n",
       "      <th>pid</th>\n",
       "      <th>hid</th>\n",
       "      <th>lat</th>\n",
       "      <th>lon</th>\n",
       "      <th>ts</th>\n",
       "      <th>td</th>\n",
       "      <th>dw</th>\n",
       "      <th>tz</th>\n",
       "      <th>gridX</th>\n",
       "      <th>gridY</th>\n",
       "      <th>gridId</th>\n",
       "    </tr>\n",
       "  </thead>\n",
       "  <tbody>\n",
       "    <tr>\n",
       "      <td>0</td>\n",
       "      <td>Santa Clara County</td>\n",
       "      <td>8b36e7aa0781e013ba4f656aaac11c87c6d63816</td>\n",
       "      <td>36.909643</td>\n",
       "      <td>-121.559312</td>\n",
       "      <td>1576782347</td>\n",
       "      <td>11:05:47</td>\n",
       "      <td>Thu</td>\n",
       "      <td>397</td>\n",
       "      <td>3096</td>\n",
       "      <td>9407</td>\n",
       "      <td>309609407</td>\n",
       "    </tr>\n",
       "    <tr>\n",
       "      <td>156574</td>\n",
       "      <td>Santa Clara County</td>\n",
       "      <td>8b36e7aa0781e013ba4f656aaac11c87c6d63816</td>\n",
       "      <td>37.127546</td>\n",
       "      <td>-121.648410</td>\n",
       "      <td>1576780723</td>\n",
       "      <td>10:38:43</td>\n",
       "      <td>Thu</td>\n",
       "      <td>397</td>\n",
       "      <td>5275</td>\n",
       "      <td>8516</td>\n",
       "      <td>527508516</td>\n",
       "    </tr>\n",
       "    <tr>\n",
       "      <td>213427</td>\n",
       "      <td>Santa Clara County</td>\n",
       "      <td>8b36e7aa0781e013ba4f656aaac11c87c6d63816</td>\n",
       "      <td>37.149767</td>\n",
       "      <td>-121.671177</td>\n",
       "      <td>1576780633</td>\n",
       "      <td>10:37:13</td>\n",
       "      <td>Thu</td>\n",
       "      <td>397</td>\n",
       "      <td>5498</td>\n",
       "      <td>8288</td>\n",
       "      <td>549808288</td>\n",
       "    </tr>\n",
       "    <tr>\n",
       "      <td>213428</td>\n",
       "      <td>Santa Clara County</td>\n",
       "      <td>8b36e7aa0781e013ba4f656aaac11c87c6d63816</td>\n",
       "      <td>37.138745</td>\n",
       "      <td>-121.659883</td>\n",
       "      <td>1576780678</td>\n",
       "      <td>10:37:58</td>\n",
       "      <td>Thu</td>\n",
       "      <td>397</td>\n",
       "      <td>5387</td>\n",
       "      <td>8401</td>\n",
       "      <td>538708401</td>\n",
       "    </tr>\n",
       "    <tr>\n",
       "      <td>275093</td>\n",
       "      <td>Santa Clara County</td>\n",
       "      <td>8b36e7aa0781e013ba4f656aaac11c87c6d63816</td>\n",
       "      <td>37.171421</td>\n",
       "      <td>-121.693355</td>\n",
       "      <td>1576780545</td>\n",
       "      <td>10:35:45</td>\n",
       "      <td>Thu</td>\n",
       "      <td>397</td>\n",
       "      <td>5714</td>\n",
       "      <td>8066</td>\n",
       "      <td>571408066</td>\n",
       "    </tr>\n",
       "    <tr>\n",
       "      <td>...</td>\n",
       "      <td>...</td>\n",
       "      <td>...</td>\n",
       "      <td>...</td>\n",
       "      <td>...</td>\n",
       "      <td>...</td>\n",
       "      <td>...</td>\n",
       "      <td>...</td>\n",
       "      <td>...</td>\n",
       "      <td>...</td>\n",
       "      <td>...</td>\n",
       "      <td>...</td>\n",
       "    </tr>\n",
       "    <tr>\n",
       "      <td>9542131</td>\n",
       "      <td>Santa Clara County</td>\n",
       "      <td>8b36e7aa0781e013ba4f656aaac11c87c6d63816</td>\n",
       "      <td>37.415259</td>\n",
       "      <td>-121.972683</td>\n",
       "      <td>1576777273</td>\n",
       "      <td>09:41:13</td>\n",
       "      <td>Thu</td>\n",
       "      <td>397</td>\n",
       "      <td>8153</td>\n",
       "      <td>5273</td>\n",
       "      <td>815305273</td>\n",
       "    </tr>\n",
       "    <tr>\n",
       "      <td>9542132</td>\n",
       "      <td>Santa Clara County</td>\n",
       "      <td>8b36e7aa0781e013ba4f656aaac11c87c6d63816</td>\n",
       "      <td>37.405600</td>\n",
       "      <td>-121.966167</td>\n",
       "      <td>1576777314</td>\n",
       "      <td>09:41:54</td>\n",
       "      <td>Thu</td>\n",
       "      <td>397</td>\n",
       "      <td>8056</td>\n",
       "      <td>5338</td>\n",
       "      <td>805605338</td>\n",
       "    </tr>\n",
       "    <tr>\n",
       "      <td>9808856</td>\n",
       "      <td>Santa Clara County</td>\n",
       "      <td>8b36e7aa0781e013ba4f656aaac11c87c6d63816</td>\n",
       "      <td>37.438707</td>\n",
       "      <td>-121.976458</td>\n",
       "      <td>1576777180</td>\n",
       "      <td>09:39:40</td>\n",
       "      <td>Thu</td>\n",
       "      <td>397</td>\n",
       "      <td>8387</td>\n",
       "      <td>5235</td>\n",
       "      <td>838705235</td>\n",
       "    </tr>\n",
       "    <tr>\n",
       "      <td>9808857</td>\n",
       "      <td>Santa Clara County</td>\n",
       "      <td>8b36e7aa0781e013ba4f656aaac11c87c6d63816</td>\n",
       "      <td>37.426295</td>\n",
       "      <td>-121.977537</td>\n",
       "      <td>1576777224</td>\n",
       "      <td>09:40:24</td>\n",
       "      <td>Thu</td>\n",
       "      <td>397</td>\n",
       "      <td>8263</td>\n",
       "      <td>5225</td>\n",
       "      <td>826305225</td>\n",
       "    </tr>\n",
       "    <tr>\n",
       "      <td>10458000</td>\n",
       "      <td>Santa Clara County</td>\n",
       "      <td>8b36e7aa0781e013ba4f656aaac11c87c6d63816</td>\n",
       "      <td>37.451027</td>\n",
       "      <td>-121.975430</td>\n",
       "      <td>1576777139</td>\n",
       "      <td>09:38:59</td>\n",
       "      <td>Thu</td>\n",
       "      <td>397</td>\n",
       "      <td>8510</td>\n",
       "      <td>5246</td>\n",
       "      <td>851005246</td>\n",
       "    </tr>\n",
       "  </tbody>\n",
       "</table>\n",
       "<p>76 rows × 11 columns</p>\n",
       "</div>"
      ],
      "text/plain": [
       "                         pid                                       hid  \\\n",
       "0         Santa Clara County  8b36e7aa0781e013ba4f656aaac11c87c6d63816   \n",
       "156574    Santa Clara County  8b36e7aa0781e013ba4f656aaac11c87c6d63816   \n",
       "213427    Santa Clara County  8b36e7aa0781e013ba4f656aaac11c87c6d63816   \n",
       "213428    Santa Clara County  8b36e7aa0781e013ba4f656aaac11c87c6d63816   \n",
       "275093    Santa Clara County  8b36e7aa0781e013ba4f656aaac11c87c6d63816   \n",
       "...                      ...                                       ...   \n",
       "9542131   Santa Clara County  8b36e7aa0781e013ba4f656aaac11c87c6d63816   \n",
       "9542132   Santa Clara County  8b36e7aa0781e013ba4f656aaac11c87c6d63816   \n",
       "9808856   Santa Clara County  8b36e7aa0781e013ba4f656aaac11c87c6d63816   \n",
       "9808857   Santa Clara County  8b36e7aa0781e013ba4f656aaac11c87c6d63816   \n",
       "10458000  Santa Clara County  8b36e7aa0781e013ba4f656aaac11c87c6d63816   \n",
       "\n",
       "                lat         lon          ts        td   dw   tz  gridX  gridY  \\\n",
       "0         36.909643 -121.559312  1576782347  11:05:47  Thu  397   3096   9407   \n",
       "156574    37.127546 -121.648410  1576780723  10:38:43  Thu  397   5275   8516   \n",
       "213427    37.149767 -121.671177  1576780633  10:37:13  Thu  397   5498   8288   \n",
       "213428    37.138745 -121.659883  1576780678  10:37:58  Thu  397   5387   8401   \n",
       "275093    37.171421 -121.693355  1576780545  10:35:45  Thu  397   5714   8066   \n",
       "...             ...         ...         ...       ...  ...  ...    ...    ...   \n",
       "9542131   37.415259 -121.972683  1576777273  09:41:13  Thu  397   8153   5273   \n",
       "9542132   37.405600 -121.966167  1576777314  09:41:54  Thu  397   8056   5338   \n",
       "9808856   37.438707 -121.976458  1576777180  09:39:40  Thu  397   8387   5235   \n",
       "9808857   37.426295 -121.977537  1576777224  09:40:24  Thu  397   8263   5225   \n",
       "10458000  37.451027 -121.975430  1576777139  09:38:59  Thu  397   8510   5246   \n",
       "\n",
       "             gridId  \n",
       "0         309609407  \n",
       "156574    527508516  \n",
       "213427    549808288  \n",
       "213428    538708401  \n",
       "275093    571408066  \n",
       "...             ...  \n",
       "9542131   815305273  \n",
       "9542132   805605338  \n",
       "9808856   838705235  \n",
       "9808857   826305225  \n",
       "10458000  851005246  \n",
       "\n",
       "[76 rows x 11 columns]"
      ]
     },
     "execution_count": 14,
     "metadata": {},
     "output_type": "execute_result"
    }
   ],
   "source": [
    "df.loc[df.hid == '8b36e7aa0781e013ba4f656aaac11c87c6d63816']"
   ]
  },
  {
   "cell_type": "code",
   "execution_count": 20,
   "metadata": {},
   "outputs": [],
   "source": [
    "gsizes = df.groupby('gridId').size().to_dict()"
   ]
  },
  {
   "cell_type": "code",
   "execution_count": 24,
   "metadata": {},
   "outputs": [
    {
     "data": {
      "text/plain": [
       "(3362, 9477)"
      ]
     },
     "execution_count": 24,
     "metadata": {},
     "output_type": "execute_result"
    }
   ],
   "source": [
    "getGridCoordinatesFromId(336209477)"
   ]
  },
  {
   "cell_type": "code",
   "execution_count": 22,
   "metadata": {},
   "outputs": [],
   "source": [
    "def groupLocationsByID(df, hid):\n",
    "    \n",
    "    #1. filter by id\n",
    "    #2. map of gridId\n",
    "    \n",
    "    filteredDF = df.loc[df.hid == hid]\n",
    "    locationCounts = filteredDF.groupby('gridId').size().to_dict()\n",
    "    \n",
    "    return locationCounts\n",
    "\n",
    "\n",
    "def getLocationsGroupedById(df):\n",
    "    \n",
    "    hids = df.hid.unique()\n",
    "    \n",
    "    hidLocations = {}\n",
    "    \n",
    "    for hid in hids:\n",
    "        locationCounts = groupLocationsByID(df, hid)\n",
    "        hidLocations[hid] = locationCounts\n",
    "        \n",
    "    \n",
    "    return hidLocations\n",
    "\n",
    "\n",
    "def makeCSV(hidLocations):\n",
    "    # TODO\n",
    "    \n",
    "    "
   ]
  }
 ],
 "metadata": {
  "kernelspec": {
   "display_name": "Python 3",
   "language": "python",
   "name": "python3"
  },
  "language_info": {
   "codemirror_mode": {
    "name": "ipython",
    "version": 3
   },
   "file_extension": ".py",
   "mimetype": "text/x-python",
   "name": "python",
   "nbconvert_exporter": "python",
   "pygments_lexer": "ipython3",
   "version": "3.7.4"
  }
 },
 "nbformat": 4,
 "nbformat_minor": 2
}
